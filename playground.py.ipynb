{
 "cells": [
  {
   "cell_type": "markdown",
   "source": [
    "# XORing strings"
   ],
   "metadata": {
    "collapsed": false
   }
  },
  {
   "cell_type": "code",
   "execution_count": null,
   "outputs": [],
   "source": [
    "msg = \"label\"\n",
    "xored_str = \"\"\n",
    "for letter in msg:\n",
    "    xored_str += chr(ord(letter) ^ 13)\n",
    "print(xored_str)"
   ],
   "metadata": {
    "collapsed": false
   }
  },
  {
   "cell_type": "code",
   "execution_count": null,
   "outputs": [],
   "source": [
    "def byte_xor(*byte_strs):\n",
    "    result = byte_strs[0]\n",
    "    for arr in byte_strs[1:]:\n",
    "        result = [_a ^ _b for _a, _b in zip(result, arr)]\n",
    "    return result"
   ],
   "metadata": {
    "collapsed": false
   }
  },
  {
   "cell_type": "code",
   "execution_count": null,
   "outputs": [],
   "source": [
    "a = bytes.fromhex('a6c8b6733c9b22de7bc0253266a3867df55acde8635e19c73313')\n",
    "b = byte_xor(a, bytes.fromhex('37dcb292030faa90d07eec17e3b1c6d8daf94c35d4c9191a5e1e'))\n",
    "c = byte_xor(b, bytes.fromhex('c1545756687e7573db23aa1c3452a098b71a7fbf0fddddde5fc1'))\n",
    "f = byte_xor(a, b, c, bytes.fromhex('04ee9855208a2cd59091d04767ae47963170d1660df7f56f5faf'))\n",
    "print(str(f))"
   ],
   "metadata": {
    "collapsed": false
   }
  },
  {
   "cell_type": "markdown",
   "source": [
    "# XOR bruteforce"
   ],
   "metadata": {
    "collapsed": false
   }
  },
  {
   "cell_type": "code",
   "execution_count": null,
   "outputs": [],
   "source": [
    "def bytewise_xor(msg, xor_val):\n",
    "    return bytes([_a ^ xor_val for _a in msg])"
   ],
   "metadata": {
    "collapsed": false
   }
  },
  {
   "cell_type": "code",
   "execution_count": null,
   "outputs": [],
   "source": [
    "def bytewise_xor_bruteforce(msg):\n",
    "    result = []\n",
    "    for i in range(0x100):\n",
    "        possible_bytes = bytewise_xor(msg, i)\n",
    "        possible_solve = \"\".join(chr(byte) for byte in possible_bytes)\n",
    "        result.append(possible_solve)\n",
    "    return result"
   ],
   "metadata": {
    "collapsed": false
   }
  },
  {
   "cell_type": "code",
   "execution_count": null,
   "outputs": [],
   "source": [
    "msg = bytes.fromhex('73626960647f6b206821204f21254f7d694f7624662065622127234f726927756d')\n",
    "bytewise_xor_bruteforce(msg)"
   ],
   "metadata": {
    "collapsed": false
   }
  },
  {
   "cell_type": "markdown",
   "source": [
    "# Format attack\n",
    "We know the format is crypto{*}\n",
    "\"crypto{\" ^ \"0e0b213f26041e\" = \"myXORke\"\n",
    "\"}\" ^ \"04 = \"y\"\n",
    "Key is \"myXORkey\""
   ],
   "metadata": {
    "collapsed": false
   }
  },
  {
   "cell_type": "code",
   "execution_count": null,
   "outputs": [],
   "source": [
    "msg = bytes.fromhex('0e0b213f26041e480b26217f27342e175d0e070a3c5b103e2526217f27342e175d0e077e263451150104')\n",
    "xor_key = \"myXORkey\"\n",
    "key_len = len(xor_key)\n",
    "solve_bytes = []\n",
    "for i in range(len(msg)):\n",
    "    solve_bytes.append(msg[i] ^ ord(xor_key[i % key_len]))\n",
    "solve_str = \"\".join(chr(o) for o in solve_bytes)\n",
    "print(solve_str)"
   ],
   "metadata": {
    "collapsed": false
   }
  },
  {
   "cell_type": "markdown",
   "source": [
    "# Greatest Common Divisor"
   ],
   "metadata": {
    "collapsed": false
   }
  },
  {
   "cell_type": "code",
   "execution_count": null,
   "outputs": [],
   "source": [
    "import math\n",
    "\n",
    "def gcd(a, b):\n",
    "    a_divs = [1]\n",
    "    b_divs = [1]\n",
    "    for i in range(2, math.ceil(a / 2) + 1):\n",
    "        if a % i == 0:\n",
    "            a_divs.append(i)\n",
    "    for i in range(2, math.ceil(b / 2) + 1):\n",
    "        if b % i == 0:\n",
    "            b_divs.append(i)\n",
    "\n",
    "    a_divs.append(a)\n",
    "    b_divs.append(b)\n",
    "\n",
    "    gcd = 1\n",
    "    for div in a_divs:\n",
    "        if div in b_divs:\n",
    "            gcd = div\n",
    "    return gcd"
   ],
   "metadata": {
    "collapsed": false
   }
  },
  {
   "cell_type": "code",
   "execution_count": null,
   "outputs": [],
   "source": [
    "print(gcd(12, 8))\n",
    "print(gcd(66528, 52920))"
   ],
   "metadata": {
    "collapsed": false
   }
  },
  {
   "cell_type": "markdown",
   "source": [
    "# Bezout coefficients"
   ],
   "metadata": {
    "collapsed": false
   }
  },
  {
   "cell_type": "code",
   "execution_count": null,
   "outputs": [],
   "source": [
    "import math\n",
    "\n",
    "# Returns GCD, bezout coefficient s and t\n",
    "def bezout_coefficients(a, b):\n",
    "    r0, r1 = a, b\n",
    "    s0, s1 = 1, 0\n",
    "    t0, t1 = 0, 1\n",
    "    while r1 != 0:\n",
    "        q = math.floor(r0 / r1)\n",
    "\n",
    "        r2 = r0 - (q * r1)\n",
    "        r0 = r1\n",
    "        r1 = r2\n",
    "\n",
    "        s2 = s0 - (q * s1)\n",
    "        s0 = s1\n",
    "        s1 = s2\n",
    "\n",
    "        t2 = t0 - (q * t1)\n",
    "        t0 = t1\n",
    "        t1 = t2\n",
    "\n",
    "    return r0, s0, t0"
   ],
   "metadata": {
    "collapsed": false
   }
  },
  {
   "cell_type": "code",
   "execution_count": null,
   "outputs": [],
   "source": [
    "print(bezout_coefficients(240, 46))\n",
    "print(bezout_coefficients(26513, 32321))"
   ],
   "metadata": {
    "collapsed": false
   }
  },
  {
   "cell_type": "markdown",
   "source": [
    "# Modulus space\n",
    "## Fermat's little theorem\n",
    "(a ** p = a) in mod space p"
   ],
   "metadata": {
    "collapsed": false
   }
  },
  {
   "cell_type": "code",
   "execution_count": null,
   "outputs": [],
   "source": [
    "for i in range(3, 19, 2):\n",
    "    print(f\"a: {i}, (a ** p) % p: {(i ** 17) % 17}\")"
   ],
   "metadata": {
    "collapsed": false
   }
  },
  {
   "cell_type": "markdown",
   "source": [
    "a ** p - 1 = 1 in mod space p"
   ],
   "metadata": {
    "collapsed": false
   }
  },
  {
   "cell_type": "markdown",
   "source": [
    "## Modular Inverting\n",
    "[Wikipedia](https://en.wikipedia.org/wiki/Modular_multiplicative_inverse)\n",
    "ax + my = gcd(a, m) = 1 -> a * x == 1 (mod m)\n",
    "Only works if m is prime"
   ],
   "metadata": {
    "collapsed": false
   }
  },
  {
   "cell_type": "code",
   "execution_count": null,
   "outputs": [],
   "source": [
    "def modular_inverse(a, m):\n",
    "    for x in range(m):\n",
    "        if (a * x) % m == 1:\n",
    "            return x\n",
    "    return False"
   ],
   "metadata": {
    "collapsed": false
   }
  },
  {
   "cell_type": "code",
   "execution_count": null,
   "outputs": [],
   "source": [
    "modular_inverse(5, 13)"
   ],
   "metadata": {
    "collapsed": false
   }
  },
  {
   "cell_type": "markdown",
   "source": [
    "## Modular Square Root\n",
    "In mod space 29\n",
    "a = 11\n",
    "a*a = 121 % 29 = 5\n",
    "\n",
    "Any x is a *Quadratic Residue* if there is a such that a ** 2 = x mod p\n",
    "Any x is a *Quadratic Non-Residue* if there is a such that a ** 2  = x mod p"
   ],
   "metadata": {
    "collapsed": false
   }
  },
  {
   "cell_type": "code",
   "execution_count": null,
   "outputs": [],
   "source": [
    "def mod_sqrt_old(a, p):\n",
    "    for i in range(p):\n",
    "        if (i * i) % p == a:\n",
    "            return i\n",
    "    return False"
   ],
   "metadata": {
    "collapsed": false
   }
  },
  {
   "cell_type": "code",
   "execution_count": null,
   "outputs": [],
   "source": [
    "print(mod_sqrt_old(5, 29))\n",
    "print(mod_sqrt_old(18, 29))"
   ],
   "metadata": {
    "collapsed": false
   }
  },
  {
   "cell_type": "code",
   "execution_count": null,
   "outputs": [],
   "source": [
    "print(mod_sqrt_old(14, 29))\n",
    "print(mod_sqrt_old(6, 29))\n",
    "print(mod_sqrt_old(11, 29))"
   ],
   "metadata": {
    "collapsed": false
   }
  },
  {
   "cell_type": "markdown",
   "source": [
    "## Properties of Quadratic Residues\n",
    "QR = Quadratic Residue\n",
    "QNR = Quadratic Non-Residue\n",
    "\n",
    "QR * QR = QR\n",
    "QR * QNR = QNR\n",
    "QNR * QNR = QR\n",
    "\n",
    "To remember, substitude QR with +1 and QNR with -1\n",
    "1 * 1 = 1\n",
    "1 * -1 = -1\n",
    "-1 * -1 = 1"
   ],
   "metadata": {
    "collapsed": false
   }
  },
  {
   "cell_type": "markdown",
   "source": [
    "## The Legendre Symbol\n",
    "(a / p) == a^(p - 1) / 2 mod p\n",
    "p most be odd prime\n",
    "(a / p) == 1 if a is quadratic residue and a !== 0 mod p\n",
    "(a / p) == 0 if a === 0 mod p\n",
    "(a / p) == -1 if a is quadratic non-residue mod p"
   ],
   "metadata": {
    "collapsed": false
   }
  },
  {
   "cell_type": "code",
   "execution_count": null,
   "outputs": [],
   "source": [
    "def legendre_symbol(a, p):\n",
    "    if a == 0:\n",
    "        return 0\n",
    "\n",
    "    sym = pow(a, (p - 1)//2, p)\n",
    "    if sym == 1:\n",
    "        return 1\n",
    "    else:\n",
    "        return -1"
   ],
   "metadata": {
    "collapsed": false
   }
  },
  {
   "cell_type": "code",
   "execution_count": null,
   "outputs": [],
   "source": [
    "for i in range(11):\n",
    "    print(legendre_symbol(i, 11))"
   ],
   "metadata": {
    "collapsed": false
   }
  },
  {
   "cell_type": "code",
   "execution_count": null,
   "outputs": [],
   "source": [
    "# For challenge\n",
    "\n",
    "p = 101524035174539890485408575671085261788758965189060164484385690801466167356667036677932998889725476582421738788500738738503134356158197247473850273565349249573867251280253564698939768700489401960767007716413932851838937641880157263936985954881657889497583485535527613578457628399173971810541670838543309159139\n",
    "\n",
    "ints = [25081841204695904475894082974192007718642931811040324543182130088804239047149283334700530600468528298920930150221871666297194395061462592781551275161695411167049544771049769000895119729307495913024360169904315078028798025169985966732789207320203861858234048872508633514498384390497048416012928086480326832803, 45471765180330439060504647480621449634904192839383897212809808339619841633826534856109999027962620381874878086991125854247108359699799913776917227058286090426484548349388138935504299609200377899052716663351188664096302672712078508601311725863678223874157861163196340391008634419348573975841578359355931590555, 17364140182001694956465593533200623738590196990236340894554145562517924989208719245429557645254953527658049246737589538280332010533027062477684237933221198639948938784244510469138826808187365678322547992099715229218615475923754896960363138890331502811292427146595752813297603265829581292183917027983351121325, 14388109104985808487337749876058284426747816961971581447380608277949200244660381570568531129775053684256071819837294436069133592772543582735985855506250660938574234958754211349215293281645205354069970790155237033436065434572020652955666855773232074749487007626050323967496732359278657193580493324467258802863, 4379499308310772821004090447650785095356643590411706358119239166662089428685562719233435615196994728767593223519226235062647670077854687031681041462632566890129595506430188602238753450337691441293042716909901692570971955078924699306873191983953501093343423248482960643055943413031768521782634679536276233318, 85256449776780591202928235662805033201684571648990042997557084658000067050672130152734911919581661523957075992761662315262685030115255938352540032297113615687815976039390537716707854569980516690246592112936796917504034711418465442893323439490171095447109457355598873230115172636184525449905022174536414781771, 50576597458517451578431293746926099486388286246142012476814190030935689430726042810458344828563913001012415702876199708216875020997112089693759638454900092580746638631062117961876611545851157613835724635005253792316142379239047654392970415343694657580353333217547079551304961116837545648785312490665576832987, 96868738830341112368094632337476840272563704408573054404213766500407517251810212494515862176356916912627172280446141202661640191237336568731069327906100896178776245311689857997012187599140875912026589672629935267844696976980890380730867520071059572350667913710344648377601017758188404474812654737363275994871, 4881261656846638800623549662943393234361061827128610120046315649707078244180313661063004390750821317096754282796876479695558644108492317407662131441224257537276274962372021273583478509416358764706098471849536036184924640593888902859441388472856822541452041181244337124767666161645827145408781917658423571721, 18237936726367556664171427575475596460727369368246286138804284742124256700367133250078608537129877968287885457417957868580553371999414227484737603688992620953200143688061024092623556471053006464123205133894607923801371986027458274343737860395496260538663183193877539815179246700525865152165600985105257601565]\n",
    "\n",
    "for i in range(len(ints)):\n",
    "    if legendre_symbol(ints[i], p) == 1:\n",
    "        print(i)\n",
    "\n",
    "pow(ints[5], (p + 1) // 4, p)"
   ],
   "metadata": {
    "collapsed": false
   }
  },
  {
   "cell_type": "markdown",
   "source": [
    "## Tonelli-Shanks algorithm\n",
    "All odd primes are\n",
    "    - p === 1 mod 4\n",
    "    - p === 3 mod 4\n",
    "3 mod 4 case is already defined as +- n ^ ((p + 1) / 4)\n",
    "Algorithm for finding 1 mod 4 case is Tonelli-Shanks\n",
    "\n",
    "Used for finding r in congruence r^2 === n (mod p)\n",
    "p must be odd prime\n",
    "n must be non-zero\n",
    "Returns r so that (r**2) % p == n\n"
   ],
   "metadata": {
    "collapsed": false
   }
  },
  {
   "cell_type": "code",
   "execution_count": null,
   "outputs": [],
   "source": [
    "def tonelli_shanks(n, p):\n",
    "    if gcd(n, p) != 1:\n",
    "        return -1\n",
    "    if pow(n, ((p + 1) / 4), p) == (p - 1):\n",
    "        return -1\n",
    "\n",
    "    q = p - 1\n",
    "    s = 0\n",
    "    while (q % 2 == 0):\n",
    "        q = q / 2\n",
    "        s += 1\n",
    "\n",
    "    for i in range(2, p):\n",
    "        if legendre_symbol(i, p) == 1:\n",
    "            z = i\n",
    "            break\n",
    "\n",
    "    m = s\n",
    "    c = pow(z, q)\n",
    "    t = pow(n, q)\n",
    "    r = pow(n, (q + 1) / 2)\n",
    "\n",
    "    while True:\n",
    "        if t == 0:\n",
    "            return 0\n",
    "        if t == 1:\n",
    "            return r\n",
    "        for i in range(m):\n",
    "            if pow(pow(t, 2), i) == 1:\n",
    "                break\n",
    "        b = pow(pow(c, 2), m - i - 1)\n",
    "\n",
    "\n",
    "    return False"
   ],
   "metadata": {
    "collapsed": false
   }
  },
  {
   "cell_type": "code",
   "execution_count": null,
   "outputs": [],
   "source": [
    "# Implement Tonelli-Shanks eventually\n",
    "def mod_sqrt(a, p):\n",
    "    return mod_sqrt_old(a, p)"
   ],
   "metadata": {
    "collapsed": false
   }
  },
  {
   "cell_type": "markdown",
   "source": [
    "# Caeser Cipher"
   ],
   "metadata": {
    "collapsed": false
   }
  },
  {
   "cell_type": "code",
   "execution_count": null,
   "outputs": [],
   "source": [
    "def caeser_bruteforce(input):\n",
    "    for _ in range(127-32):\n",
    "        ords = []\n",
    "        for byte in input:\n",
    "            byte = (byte + i)"
   ],
   "metadata": {
    "collapsed": false
   }
  }
 ],
 "metadata": {
  "kernelspec": {
   "display_name": "Python 3",
   "language": "python",
   "name": "python3"
  },
  "language_info": {
   "codemirror_mode": {
    "name": "ipython",
    "version": 2
   },
   "file_extension": ".py",
   "mimetype": "text/x-python",
   "name": "python",
   "nbconvert_exporter": "python",
   "pygments_lexer": "ipython2",
   "version": "2.7.6"
  }
 },
 "nbformat": 4,
 "nbformat_minor": 0
}
